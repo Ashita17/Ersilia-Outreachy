{
 "cells": [
  {
   "cell_type": "markdown",
   "metadata": {},
   "source": [
    "# Data processing\n",
    "\n",
    "In this notebook, I am loading a list of molecules I obtained from ChEMBL and processing them to make sure I have:\n",
    "- Standard SMILES representation of the compound\n",
    "- InChIKey associated to the compound"
   ]
  },
  {
   "cell_type": "code",
   "execution_count": null,
   "metadata": {},
   "outputs": [],
   "source": [
    "# In this codeblock I will import the necessary packages and specify the paths to relevant folders"
   ]
  },
  {
   "cell_type": "code",
   "execution_count": 1,
   "metadata": {},
   "outputs": [],
   "source": [
    "# In this codeblock I will load the data from the /data folder to a Pandas dataframe and understand which headers it has"
   ]
  },
  {
   "cell_type": "code",
   "execution_count": null,
   "metadata": {},
   "outputs": [],
   "source": [
    "# In this codeblock I will convert the molecules to standard SMILES by using the function standardise_smiles from /src\n",
    "# I will import the function directly from src, not copying it here"
   ]
  },
  {
   "cell_type": "code",
   "execution_count": null,
   "metadata": {},
   "outputs": [],
   "source": [
    "# In this codeblock I will get the Inchikey representation of the molecules using the RDKIT package"
   ]
  },
  {
   "cell_type": "code",
   "execution_count": 2,
   "metadata": {},
   "outputs": [],
   "source": [
    "# In this codeblock I will save the data as a .csv file containing only the standard smiles and the inchikey as columns. \n",
    "# All data will be saved with informative names in the /data folder"
   ]
  },
  {
   "cell_type": "markdown",
   "metadata": {},
   "source": [
    "# Model Bias Evaluation\n",
    "\n",
    "Now, I will use the predictions I got from the Ersilia Model Hub on the dataset of 1000 molecules curated above and see how are they distributed in their space (which might be 0 to 1 for probabilities, or different for regression models)"
   ]
  },
  {
   "cell_type": "code",
   "execution_count": 1,
   "metadata": {},
   "outputs": [],
   "source": [
    "# In this codeblock I will load the predictions I've run on Ersilia and saved in the /data folder"
   ]
  },
  {
   "cell_type": "code",
   "execution_count": null,
   "metadata": {},
   "outputs": [],
   "source": [
    "# In this codeblock I will create the necessary plots with MatPlotLib to observe the distribution of predicted values"
   ]
  }
 ],
 "metadata": {
  "kernelspec": {
   "display_name": "docking",
   "language": "python",
   "name": "python3"
  },
  "language_info": {
   "codemirror_mode": {
    "name": "ipython",
    "version": 3
   },
   "file_extension": ".py",
   "mimetype": "text/x-python",
   "name": "python",
   "nbconvert_exporter": "python",
   "pygments_lexer": "ipython3",
   "version": "3.11.8"
  }
 },
 "nbformat": 4,
 "nbformat_minor": 2
}
