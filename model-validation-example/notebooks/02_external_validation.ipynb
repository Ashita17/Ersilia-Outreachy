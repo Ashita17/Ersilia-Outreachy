{
 "cells": [
  {
   "cell_type": "markdown",
   "metadata": {},
   "source": [
    "# Model validation with external data\n",
    "In this notebook I will try to get the performance of the model on an external dataset I have obtained from a public repository, like ChEMBL, PubChem, Therapeutics Data Commons or MoleculeNet.\n",
    "\n",
    "I need to find a dataset for which experimental data exactly as the one used to train my model of interest is available."
   ]
  },
  {
   "cell_type": "code",
   "execution_count": 47,
   "metadata": {},
   "outputs": [],
   "source": [
    "# In this codeblock I will import the necessary packages and specify the paths to relevant folders\n",
    "\n",
    "# importing packages\n",
    "\n",
    "import rdkit\n",
    "import pathlib\n",
    "import chemprop\n",
    "import numpy as np\n",
    "import pandas as pd\n",
    "from rdkit import Chem\n",
    "import sys \n",
    "import ersilia\n",
    "from pathlib import Path\n",
    "import matplotlib.pyplot as plt\n",
    "import seaborn as sns\n",
    "import math\n",
    "import molvs\n",
    "from molvs import standardize_smiles\n",
    "import sklearn\n",
    "from sklearn .metrics import roc_auc_score\n",
    "\n",
    "#giving necessary paths\n",
    "sys.path.append('/Users/ashitasrivastava/Desktop/projects/ERSILIA/model-validation-example/src')\n",
    "import smiles_processing"
   ]
  },
  {
   "cell_type": "code",
   "execution_count": 5,
   "metadata": {},
   "outputs": [
    {
     "name": "stdout",
     "output_type": "stream",
     "text": [
      "  Molecule ChEMBL ID                                             Smiles  \\\n",
      "0       CHEMBL597737             Fc1ccccc1-c1ccc2oc(N3CCN4CCC3CC4)nc2n1   \n",
      "1       CHEMBL403181  CCc1noc2cc3c(cc12)CCN(CCCSc1nnc(-c2cccc4nc(C)c...   \n",
      "2       CHEMBL257946  Cc1ccc2c(-c3nnc(SCCCN4CCc5cc6onc(C)c6cc5CC4)n3...   \n",
      "3       CHEMBL550652              Cn1cnnc1C1CCN(C(=O)NC2CC2c2ccccc2)CC1   \n",
      "4       CHEMBL552196           Cc1c(O)noc1C1CCN(C(=O)NC2CC2c2ccccc2)CC1   \n",
      "\n",
      "  Standard Type Standard Relation  Standard Value Standard Units Target Name  \n",
      "0          IC50               '='         2800.00             nM        HERG  \n",
      "1          IC50               '='         1000.00             nM        HERG  \n",
      "2          IC50               '='          794.33             nM        HERG  \n",
      "3          IC50               '>'        30000.00             nM        HERG  \n",
      "4          IC50               '>'        30000.00             nM        HERG  \n",
      "(15255, 7)\n"
     ]
    }
   ],
   "source": [
    "# In this codeblock I will load the external dataset as a pandas dataframe\n",
    "\n",
    "#I manually deleted some columns from the dataset I downloaded from the\n",
    "#Chembl website as pandas was not able to read the dataframe due to delimeteres and other characters\n",
    "\n",
    "df = pd.read_csv('/Users/ashitasrivastava/Desktop/projects/ERSILIA/model-validation-example/data/Chembl_dataset_modified.csv')\n",
    "print(df.head(5))\n",
    "print(df.shape)\n"
   ]
  },
  {
   "cell_type": "code",
   "execution_count": 6,
   "metadata": {},
   "outputs": [
    {
     "name": "stdout",
     "output_type": "stream",
     "text": [
      "  Molecule ChEMBL ID                                             Smiles  \\\n",
      "0       CHEMBL597737             Fc1ccccc1-c1ccc2oc(N3CCN4CCC3CC4)nc2n1   \n",
      "1       CHEMBL403181  CCc1noc2cc3c(cc12)CCN(CCCSc1nnc(-c2cccc4nc(C)c...   \n",
      "2       CHEMBL257946  Cc1ccc2c(-c3nnc(SCCCN4CCc5cc6onc(C)c6cc5CC4)n3...   \n",
      "3       CHEMBL550652              Cn1cnnc1C1CCN(C(=O)NC2CC2c2ccccc2)CC1   \n",
      "4       CHEMBL552196           Cc1c(O)noc1C1CCN(C(=O)NC2CC2c2ccccc2)CC1   \n",
      "\n",
      "  Standard Type Standard Relation  Standard Value Standard Units Target Name  \n",
      "0          IC50               '='         2800.00             nM        HERG  \n",
      "1          IC50               '='         1000.00             nM        HERG  \n",
      "2          IC50               '='          794.33             nM        HERG  \n",
      "3          IC50               '>'        30000.00             nM        HERG  \n",
      "4          IC50               '>'        30000.00             nM        HERG  \n",
      "(13396, 7)\n"
     ]
    }
   ],
   "source": [
    "#In this dataframe, some variables in the 'Standard Relation' and 'Standard Units' columns don't have the datatype string, \n",
    "#so I am removing all those rows where the value is not a string\n",
    "\n",
    "filtered_df = df[df['Standard Relation'].apply(lambda x: isinstance(x, str))]\n",
    "filtered_df1 = filtered_df[filtered_df['Standard Units'].apply(lambda x: isinstance(x, str))]\n",
    "print(filtered_df1.head(5))\n",
    "print(filtered_df1.shape)\n"
   ]
  },
  {
   "cell_type": "code",
   "execution_count": 7,
   "metadata": {},
   "outputs": [
    {
     "name": "stdout",
     "output_type": "stream",
     "text": [
      "  Molecule ChEMBL ID                                             Smiles  \\\n",
      "0       CHEMBL597737             Fc1ccccc1-c1ccc2oc(N3CCN4CCC3CC4)nc2n1   \n",
      "1       CHEMBL403181  CCc1noc2cc3c(cc12)CCN(CCCSc1nnc(-c2cccc4nc(C)c...   \n",
      "2       CHEMBL257946  Cc1ccc2c(-c3nnc(SCCCN4CCc5cc6onc(C)c6cc5CC4)n3...   \n",
      "5       CHEMBL555347  O=C(Nc1ccc(C(F)(F)F)cc1)N1CCC(c2nc(-c3ccccn3)n...   \n",
      "8       CHEMBL241330  CCOc1cc(CN2CCC(NC(=O)c3cccc(S(C)(=O)=O)c3)CC2)...   \n",
      "\n",
      "  Standard Type Standard Relation  Standard Value Standard Units Target Name  \n",
      "0          IC50               '='         2800.00             nM        HERG  \n",
      "1          IC50               '='         1000.00             nM        HERG  \n",
      "2          IC50               '='          794.33             nM        HERG  \n",
      "5          IC50               '='         8000.00             nM        HERG  \n",
      "8          IC50               '='         1300.00             nM        HERG  \n",
      "(9492, 7)\n"
     ]
    }
   ],
   "source": [
    "# I want only those rows where the 'Standard Relation' is ''='' and the 'Standard Units' is 'nM'.\n",
    "\n",
    "filtered_df2 = filtered_df1[(filtered_df1.iloc[:, 3] == \"'='\") & (filtered_df1.iloc[:, 5] == 'nM')]\n",
    "print(filtered_df2.head(5))\n",
    "print(filtered_df2.shape)"
   ]
  },
  {
   "cell_type": "code",
   "execution_count": 8,
   "metadata": {},
   "outputs": [
    {
     "name": "stdout",
     "output_type": "stream",
     "text": [
      "(9492, 7)\n",
      "  Molecule ChEMBL ID                                             Smiles  \\\n",
      "0       CHEMBL597737             Fc1ccccc1-c1ccc2oc(N3CCN4CCC3CC4)nc2n1   \n",
      "1       CHEMBL403181  CCc1noc2cc3c(cc12)CCN(CCCSc1nnc(-c2cccc4nc(C)c...   \n",
      "2       CHEMBL257946  Cc1ccc2c(-c3nnc(SCCCN4CCc5cc6onc(C)c6cc5CC4)n3...   \n",
      "5       CHEMBL555347  O=C(Nc1ccc(C(F)(F)F)cc1)N1CCC(c2nc(-c3ccccn3)n...   \n",
      "8       CHEMBL241330  CCOc1cc(CN2CCC(NC(=O)c3cccc(S(C)(=O)=O)c3)CC2)...   \n",
      "\n",
      "  Standard Type Standard Relation  Standard Value Standard Units Target Name  \\\n",
      "0          IC50               '='         2800.00             nM        HERG   \n",
      "1          IC50               '='         1000.00             nM        HERG   \n",
      "2          IC50               '='          794.33             nM        HERG   \n",
      "5          IC50               '='         8000.00             nM        HERG   \n",
      "8          IC50               '='         1300.00             nM        HERG   \n",
      "\n",
      "   label  \n",
      "0      1  \n",
      "1      1  \n",
      "2      1  \n",
      "5      1  \n",
      "8      1  \n",
      "(9492, 8)\n"
     ]
    },
    {
     "name": "stderr",
     "output_type": "stream",
     "text": [
      "/Users/ashitasrivastava/miniconda3/envs/ersilia/lib/python3.9/site-packages/pandas/util/_decorators.py:311: SettingWithCopyWarning: \n",
      "A value is trying to be set on a copy of a slice from a DataFrame\n",
      "\n",
      "See the caveats in the documentation: https://pandas.pydata.org/pandas-docs/stable/user_guide/indexing.html#returning-a-view-versus-a-copy\n",
      "  return func(*args, **kwargs)\n"
     ]
    }
   ],
   "source": [
    "#removing all the nan values\n",
    "filtered_df2.dropna(inplace=True)\n",
    "print(filtered_df2.shape)\n",
    "\n",
    "# The molecule is a hERG bloker if IC50 < 10,000 nM and otherwise its a non-hERG blocker\n",
    "# appending a label column in the dataframe above based on this information\n",
    "filtered_df2 = filtered_df2.copy()\n",
    "def label(x):\n",
    "    if x < 10000:\n",
    "        return 1\n",
    "    else:\n",
    "        return 0\n",
    "\n",
    "filtered_df2['label'] = filtered_df2['Standard Value'].apply(lambda x: label(x))\n",
    "print(filtered_df2.head(5))\n",
    "print(filtered_df2.shape)\n"
   ]
  },
  {
   "cell_type": "code",
   "execution_count": 9,
   "metadata": {},
   "outputs": [
    {
     "name": "stdout",
     "output_type": "stream",
     "text": [
      "                                     standard smiles  \\\n",
      "0             Fc1ccccc1-c1ccc2oc(N3CCN4CCC3CC4)nc2n1   \n",
      "1  CCc1noc2cc3c(cc12)CCN(CCCSc1nnc(-c2cccc4nc(C)c...   \n",
      "2  Cc1ccc2c(-c3nnc(SCCCN4CCc5cc6onc(C)c6cc5CC4)n3...   \n",
      "3  O=C(Nc1ccc(C(F)(F)F)cc1)N1CCC(c2nc(-c3ccccn3)n...   \n",
      "4  CCOc1cc(CN2CCC(NC(=O)c3cccc(S(C)(=O)=O)c3)CC2)...   \n",
      "\n",
      "                      InchiKey  label  \n",
      "0  ATCMRGMIYIPJQT-UHFFFAOYSA-N      1  \n",
      "1  RTMHXVRCXRAHLV-UHFFFAOYSA-N      1  \n",
      "2  OZZLMZAQJKSGCB-UHFFFAOYSA-N      1  \n",
      "3  FOJGGWIJRFOXIF-UHFFFAOYSA-N      1  \n",
      "4  WAQMOZNGKRFENV-UHFFFAOYSA-N      1  \n",
      "(9492, 3)\n"
     ]
    }
   ],
   "source": [
    "# In this codeblock I will process the external dataset so that I have a dataframe with three columns: standard smiles / InchiKey / experimental_value\n",
    "\n",
    "smiles_list=filtered_df2['Smiles'].to_list()\n",
    "#standardising the smiles\n",
    "standard_smiles_list= [standardize_smiles(x) for x in smiles_list]\n",
    "mol_list = [Chem.MolFromSmiles(smiles) for smiles in standard_smiles_list]\n",
    "InChIKey_list = [Chem.MolToInchiKey(mol) for mol in mol_list]\n",
    "label_list=filtered_df2['label'].to_list()\n",
    "\n",
    "#creating the pre-final dataframe (before removing the repeated values for bias removal)\n",
    "\n",
    "pre_final_df = pd.DataFrame({'standard smiles': standard_smiles_list, 'InchiKey': InChIKey_list, 'label': label_list})\n",
    "print(pre_final_df.head(5))\n",
    "print(pre_final_df.shape)"
   ]
  },
  {
   "cell_type": "markdown",
   "metadata": {},
   "source": [
    "### Datsets used for training model\n",
    "\n",
    "There were 5 pre-training and 2 fine-tuning datasets used for training the model. We can find them [here](https://github.com/GIST-CSBL/BayeshERG/tree/main/data) . In the next few cells I have concatenated all these datasets and removed all the common molecules which might be present in the Chembl dataset to avoid data leak. The final dataset used for testing will be such that the model has never seen its examples during training."
   ]
  },
  {
   "cell_type": "code",
   "execution_count": 10,
   "metadata": {},
   "outputs": [
    {
     "name": "stdout",
     "output_type": "stream",
     "text": [
      "              id                                             smiles  label\n",
      "0  CHEMBL2017585  COc1cc(-c2cn([C@H]3C[C@@H](c4ccccc4)CCN(CC(F)(...      1\n",
      "1  CHEMBL2017583  COc1cc(-c2cn([C@H]3C[C@@H](C(F)(F)F)CN(CC(F)(F...      0\n",
      "2  CHEMBL2017576  COc1cc(-c2cn([C@H]3C[C@@H](C(C)(C)C)CCN(CC45CC...      1\n",
      "3  CHEMBL2017579  COc1cc(-c2cn([C@H]3CC[C@H](c4ccccc4)CN(Cc4cccc...      1\n",
      "4           D956  COc1cc(-c2cn([C@@H]3CCc4c(F)cccc4N(CC(F)(F)F)C...      0\n",
      "(15771, 3)\n"
     ]
    }
   ],
   "source": [
    "#combining the five fine-tuning datasets\n",
    "\n",
    "finetuning_df1=pd.read_csv('/Users/ashitasrivastava/Desktop/projects/ERSILIA/model-validation-example/data/Finetuning/test_all.csv')\n",
    "finetuning_df2=pd.read_csv('/Users/ashitasrivastava/Desktop/projects/ERSILIA/model-validation-example/data/Finetuning/test_rev.csv')\n",
    "finetuning_df3=pd.read_csv('/Users/ashitasrivastava/Desktop/projects/ERSILIA/model-validation-example/data/Finetuning/training.csv')\n",
    "finetuning_df4=pd.read_csv('/Users/ashitasrivastava/Desktop/projects/ERSILIA/model-validation-example/data/Finetuning/val_all.csv')\n",
    "finetuning_df5=pd.read_csv('/Users/ashitasrivastava/Desktop/projects/ERSILIA/model-validation-example/data/Finetuning/val_rev.csv')\n",
    "finetuning = pd.concat([finetuning_df1,finetuning_df2,finetuning_df3,finetuning_df4,finetuning_df5], axis=0)\n",
    "print(finetuning.head(5))\n",
    "print(finetuning.shape)"
   ]
  },
  {
   "cell_type": "code",
   "execution_count": 11,
   "metadata": {},
   "outputs": [
    {
     "name": "stdout",
     "output_type": "stream",
     "text": [
      "              id                                             smiles  label\n",
      "0  CHEMBL2017585  COc1cc(-c2cn([C@H]3C[C@@H](c4ccccc4)CCN(CC(F)(...      1\n",
      "1  CHEMBL2017583  COc1cc(-c2cn([C@H]3C[C@@H](C(F)(F)F)CN(CC(F)(F...      0\n",
      "2  CHEMBL2017576  COc1cc(-c2cn([C@H]3C[C@@H](C(C)(C)C)CCN(CC45CC...      1\n",
      "3  CHEMBL2017579  COc1cc(-c2cn([C@H]3CC[C@H](c4ccccc4)CN(Cc4cccc...      1\n",
      "4           D956  COc1cc(-c2cn([C@@H]3CCc4c(F)cccc4N(CC(F)(F)F)C...      0\n"
     ]
    }
   ],
   "source": [
    "# standardising the smiles in the fine-tuning dataframe\n",
    "\n",
    "finetuning['smiles'] = finetuning['smiles'].apply(standardize_smiles)\n",
    "print(finetuning.head(5))"
   ]
  },
  {
   "cell_type": "code",
   "execution_count": 12,
   "metadata": {},
   "outputs": [
    {
     "name": "stdout",
     "output_type": "stream",
     "text": [
      "        sid                               smiles      10uM\n",
      "0  22412433        CCCOc1ccc([N+](=O)[O-])c(N)c1   4.27128\n",
      "1  22408587         CNC(=S)Nc1cc(C(F)(F)F)ccc1Cl -17.47922\n",
      "2  17511989  CC(C)OP(=O)(OC(C)C)C(O)c1ccc(Br)cc1  -2.31012\n",
      "3  17507453              CCCCOc1ccc(CCN)cc1Cl.Cl -13.70892\n",
      "4  17432784            NC(CC(=O)Nc1ccc(F)cc1)=NO  -5.40622\n",
      "(304045, 3)\n"
     ]
    }
   ],
   "source": [
    "# combining the pre-training datasets\n",
    "\n",
    "pretraining_df1=pd.read_csv('/Users/ashitasrivastava/Desktop/projects/ERSILIA/model-validation-example/data/Pretraining/MLSMR_training.csv')\n",
    "pretraining_df2=pd.read_csv('/Users/ashitasrivastava/Desktop/projects/ERSILIA/model-validation-example/data/Pretraining/MLSMR_validation.csv')\n",
    "pretraining = pd.concat([pretraining_df1,pretraining_df2], axis=0)\n",
    "print(pretraining.head(5))\n",
    "print(pretraining.shape)"
   ]
  },
  {
   "cell_type": "code",
   "execution_count": 13,
   "metadata": {},
   "outputs": [
    {
     "name": "stderr",
     "output_type": "stream",
     "text": [
      "[01:26:35] Can't kekulize mol.  Unkekulized atoms: 0 2 3 4 6\n",
      "[01:26:35] Can't kekulize mol.  Unkekulized atoms: 0 2 3 4 7\n",
      "[01:26:35] Can't kekulize mol.  Unkekulized atoms: 0 2 3 4 7\n",
      "[01:26:35] Can't kekulize mol.  Unkekulized atoms: 0 2 3 4 7\n",
      "[01:26:35] Can't kekulize mol.  Unkekulized atoms: 0 2 3 4 7\n",
      "[01:26:35] Can't kekulize mol.  Unkekulized atoms: 0 2 3 4 6\n",
      "[01:26:35] Can't kekulize mol.  Unkekulized atoms: 0 2 3 4 7\n",
      "[01:26:35] Can't kekulize mol.  Unkekulized atoms: 0 2 3 4 6\n",
      "[01:26:41] WARNING: not removing hydrogen atom without neighbors\n",
      "[01:26:41] WARNING: not removing hydrogen atom without neighbors\n",
      "[01:26:47] Can't kekulize mol.  Unkekulized atoms: 0 2 3 4 6 7 12 13 15\n",
      "[01:26:47] Can't kekulize mol.  Unkekulized atoms: 0 2 3 4 5 7 8 10 14\n",
      "[01:26:47] Can't kekulize mol.  Unkekulized atoms: 0 2 3 4 6 7 11 12 16\n",
      "[01:26:47] Can't kekulize mol.  Unkekulized atoms: 0 2 3 4 5 7 8 10 14\n",
      "[01:26:47] Can't kekulize mol.  Unkekulized atoms: 0 2 3 4 5 7 8 10 14\n",
      "[01:26:47] Can't kekulize mol.  Unkekulized atoms: 0 2 3 4 5 7 8 10 14\n",
      "[01:26:47] Can't kekulize mol.  Unkekulized atoms: 0 2 3 4 5 7 8 10 14\n",
      "[01:26:49] Can't kekulize mol.  Unkekulized atoms: 0 2 3 4 6\n",
      "[01:26:49] Can't kekulize mol.  Unkekulized atoms: 0 2 3 4 7\n",
      "[01:26:49] Can't kekulize mol.  Unkekulized atoms: 0 2 3 4 7\n",
      "[01:26:49] Can't kekulize mol.  Unkekulized atoms: 0 2 3 4 7\n",
      "[01:26:49] Can't kekulize mol.  Unkekulized atoms: 0 2 3 4 7\n",
      "[01:26:49] Can't kekulize mol.  Unkekulized atoms: 0 2 3 4 6\n",
      "[01:26:49] Can't kekulize mol.  Unkekulized atoms: 0 2 3 4 6\n",
      "[01:26:52] Can't kekulize mol.  Unkekulized atoms: 3 5 27 28 29 31\n",
      "[01:26:52] Can't kekulize mol.  Unkekulized atoms: 3 5 25 26 27 29\n",
      "[01:26:52] Can't kekulize mol.  Unkekulized atoms: 3 5 27 28 29 30\n",
      "[01:26:52] Can't kekulize mol.  Unkekulized atoms: 3 5 25 26 27 28\n",
      "[01:26:52] Can't kekulize mol.  Unkekulized atoms: 3 5 26 27 28 29\n",
      "[01:26:52] Can't kekulize mol.  Unkekulized atoms: 3 5 27 28 29 31\n",
      "[01:26:56] Can't kekulize mol.  Unkekulized atoms: 0 2 3 4 6 7 11 12 15\n",
      "[01:26:56] Can't kekulize mol.  Unkekulized atoms: 0 2 3 4 6 7 11 12 15\n",
      "[01:26:56] Can't kekulize mol.  Unkekulized atoms: 0 2 3 4 6 7 11 12 15\n",
      "[01:26:56] Can't kekulize mol.  Unkekulized atoms: 0 2 3 4 6 7 11 12 15\n",
      "[01:26:56] Can't kekulize mol.  Unkekulized atoms: 0 2 3 4 6 7 11 12 15\n",
      "[01:26:56] Can't kekulize mol.  Unkekulized atoms: 0 2 3 4 6 7 11 12 15\n",
      "[01:27:03] Can't kekulize mol.  Unkekulized atoms: 0 2 3 4 5\n",
      "[01:27:03] Can't kekulize mol.  Unkekulized atoms: 0 2 3 4 5\n",
      "[01:27:03] Can't kekulize mol.  Unkekulized atoms: 0 2 3 4 5\n",
      "[01:27:03] Can't kekulize mol.  Unkekulized atoms: 0 2 3 4 5\n",
      "[01:27:03] Can't kekulize mol.  Unkekulized atoms: 0 2 3 4 5\n",
      "[01:27:10] Can't kekulize mol.  Unkekulized atoms: 0 2 3 4 7\n",
      "[01:27:10] Can't kekulize mol.  Unkekulized atoms: 0 2 3 4 7\n",
      "[01:27:10] Can't kekulize mol.  Unkekulized atoms: 0 2 3 4 7\n",
      "[01:27:10] Can't kekulize mol.  Unkekulized atoms: 0 2 3 4 7\n",
      "[01:27:10] Can't kekulize mol.  Unkekulized atoms: 0 2 3 4 7\n",
      "[01:27:15] Can't kekulize mol.  Unkekulized atoms: 0 2 3 4 7\n",
      "[01:27:15] Can't kekulize mol.  Unkekulized atoms: 0 2 3 4 7\n",
      "[01:27:15] Can't kekulize mol.  Unkekulized atoms: 0 2 3 4 7\n",
      "[01:27:15] Can't kekulize mol.  Unkekulized atoms: 0 2 3 4 7\n",
      "[01:27:31] Can't kekulize mol.  Unkekulized atoms: 3 5\n",
      "[01:27:36] Can't kekulize mol.  Unkekulized atoms: 0 2 3 4 6\n",
      "[01:27:36] Can't kekulize mol.  Unkekulized atoms: 0 2 3 4 7\n",
      "[01:27:36] Can't kekulize mol.  Unkekulized atoms: 0 2 3 4 7\n",
      "[01:27:43] Can't kekulize mol.  Unkekulized atoms: 0 2 3 4 6\n",
      "[01:27:43] Can't kekulize mol.  Unkekulized atoms: 0 2 3 4 7\n",
      "[01:27:43] Can't kekulize mol.  Unkekulized atoms: 0 2 3 4 6\n",
      "[01:27:47] Can't kekulize mol.  Unkekulized atoms: 0 2 3 4 6 7 11 12 14\n",
      "[01:27:47] Can't kekulize mol.  Unkekulized atoms: 0 2 3 4 6 7 11 12 14\n",
      "[01:27:47] Can't kekulize mol.  Unkekulized atoms: 0 2 3 4 6 7 11 12 14\n",
      "[01:27:55] Can't kekulize mol.  Unkekulized atoms: 0 2 3 4 5\n",
      "[01:27:55] Can't kekulize mol.  Unkekulized atoms: 0 2 3 4 5\n",
      "[01:27:55] Can't kekulize mol.  Unkekulized atoms: 0 2 3 4 6\n",
      "[01:27:55] Can't kekulize mol.  Unkekulized atoms: 0 2 3 4 7\n",
      "[01:28:00] Can't kekulize mol.  Unkekulized atoms: 0 2 3 4 7\n",
      "[01:28:00] Can't kekulize mol.  Unkekulized atoms: 0 2 3 4 6\n",
      "[01:28:01] Can't kekulize mol.  Unkekulized atoms: 0 2 3 4 7\n",
      "[01:28:01] Can't kekulize mol.  Unkekulized atoms: 0 2 3 4 6\n",
      "[01:28:03] Can't kekulize mol.  Unkekulized atoms: 3 5 33 34 35 36\n",
      "[01:28:03] Can't kekulize mol.  Unkekulized atoms: 3 5 32 33 34 35\n",
      "[01:28:07] Can't kekulize mol.  Unkekulized atoms: 0 2 3 4 7\n",
      "[01:28:07] Can't kekulize mol.  Unkekulized atoms: 0 2 3 4 6\n",
      "[01:28:08] Can't kekulize mol.  Unkekulized atoms: 0 2 3 4 5\n",
      "[01:28:08] Can't kekulize mol.  Unkekulized atoms: 0 2 3 4 5\n",
      "[01:28:16] Can't kekulize mol.  Unkekulized atoms: 3 9 10 13 14 17\n",
      "[01:28:16] Can't kekulize mol.  Unkekulized atoms: 3 11 12 15 16 19\n",
      "[01:28:18] Can't kekulize mol.  Unkekulized atoms: 0 2 3 4 7\n",
      "[01:28:19] Can't kekulize mol.  Unkekulized atoms: 0 2 3 4 6\n",
      "[01:28:20] Can't kekulize mol.  Unkekulized atoms: 3 5 25 26 27 28\n",
      "[01:28:21] Can't kekulize mol.  Unkekulized atoms: 0 2 3 4 6 7 11 12 15\n",
      "[01:28:22] Can't kekulize mol.  Unkekulized atoms: 0 2 3 4 6\n",
      "[01:28:22] Can't kekulize mol.  Unkekulized atoms: 0 2 3 4 6\n",
      "[01:28:24] Can't kekulize mol.  Unkekulized atoms: 0 2 3 4 6\n",
      "[01:28:27] Can't kekulize mol.  Unkekulized atoms: 3 5 26 27 28 29\n",
      "[01:28:32] Can't kekulize mol.  Unkekulized atoms: 0 2 3 4 5\n",
      "[01:28:32] Can't kekulize mol.  Unkekulized atoms: 0 2 3 4 6\n",
      "[01:28:36] Can't kekulize mol.  Unkekulized atoms: 3 9 10 11 12 13\n",
      "[01:28:39] Can't kekulize mol.  Unkekulized atoms: 0 2 3 4 7\n",
      "[01:28:39] Can't kekulize mol.  Unkekulized atoms: 0 2 3 4 6\n",
      "[01:28:45] Can't kekulize mol.  Unkekulized atoms: 0 2 3 4 6 7 11 12 14\n",
      "[01:28:46] Can't kekulize mol.  Unkekulized atoms: 0 2 3 4 5\n",
      "[01:28:47] Can't kekulize mol.  Unkekulized atoms: 0 2 3 4 7\n",
      "[01:28:49] Can't kekulize mol.  Unkekulized atoms: 3 5\n",
      "[01:28:51] Can't kekulize mol.  Unkekulized atoms: 0 2 3 4 7\n",
      "[01:28:51] Can't kekulize mol.  Unkekulized atoms: 3 7\n"
     ]
    },
    {
     "name": "stdout",
     "output_type": "stream",
     "text": [
      "        sid                               smiles      10uM\n",
      "0  22412433        CCCOc1ccc([N+](=O)[O-])c(N)c1   4.27128\n",
      "1  22408587         CNC(=S)Nc1cc(C(F)(F)F)ccc1Cl -17.47922\n",
      "2  17511989  CC(C)OP(=O)(OC(C)C)C(O)c1ccc(Br)cc1  -2.31012\n",
      "3  17507453              CCCCOc1ccc(CCN)cc1Cl.Cl -13.70892\n",
      "4  17432784            NC(CC(=O)Nc1ccc(F)cc1)=NO  -5.40622\n",
      "(304045, 3)\n"
     ]
    }
   ],
   "source": [
    "#standardising the smiles\n",
    "pretraining['smiles'] = pretraining['smiles'].apply(standardize_smiles)\n",
    "print(pretraining.head(5))\n",
    "print(pretraining.shape)"
   ]
  },
  {
   "cell_type": "code",
   "execution_count": 14,
   "metadata": {},
   "outputs": [
    {
     "name": "stdout",
     "output_type": "stream",
     "text": [
      "                                       standard smiles  \\\n",
      "111     Cc1nc2ncccc2cc1-c1ccc2cc(CCN3CCC[C@H]3C)ccc2n1   \n",
      "112  C[C@@H]1CCCN1CCc1ccc2nc(-c3ccc(-n4ccc(=O)cc4)c...   \n",
      "116  Cc1c(-c2ccc3cc(CCN4CCC[C@H]4C)ccc3n2)cnn1-c1cc...   \n",
      "160         CC(C)N(CCC(C(N)=O)(c1ccccc1)c1ccccn1)C(C)C   \n",
      "161   COc1ccc(CCNCCCNC(=O)c2ccc([N+](=O)[O-])cc2)cc1OC   \n",
      "\n",
      "                        InchiKey  label  \n",
      "111  VLKAMDZYTNJHHG-QGZVFWFLSA-N      0  \n",
      "112  AFPODXVEPNVDCE-HXUWFJFHSA-N      0  \n",
      "116  TVAWFBREUZKKRV-GOSISDBHSA-N      0  \n",
      "160  UVTNFZQICZKOEM-UHFFFAOYSA-N      0  \n",
      "161  XEAKAKKNLOUHDV-UHFFFAOYSA-N      1  \n",
      "(2218, 3)\n"
     ]
    }
   ],
   "source": [
    "# In this codeblock I will make sure there are no repeated molecules between the train set used in the model and the external dataset I curated\n",
    "# Repeated molecules must be eliminated to avoid bias\n",
    "\n",
    "common_smiles = set(pretraining['smiles']).union(set(finetuning['smiles']))\n",
    "\n",
    "# Filter rows from 'filtered_df2' where 'smiles' column has common values\n",
    "final_df = pre_final_df[~pre_final_df['standard smiles'].isin(common_smiles)]\n",
    "print(final_df.head(5))\n",
    "print(final_df.shape)"
   ]
  },
  {
   "cell_type": "code",
   "execution_count": 15,
   "metadata": {},
   "outputs": [
    {
     "name": "stdout",
     "output_type": "stream",
     "text": [
      "no. of positives in the final test dataset :  1255\n",
      "no. of negatives in the final test dataset :  963\n"
     ]
    }
   ],
   "source": [
    "# counting the number of positive and negative examples in the final dataframe\n",
    "\n",
    "positives= final_df[final_df['label'] == 1].shape[0]\n",
    "print('no. of positives in the final test dataset : ',positives)\n",
    "negatives= final_df[final_df['label'] == 0].shape[0]\n",
    "print('no. of negatives in the final test dataset : ',negatives)"
   ]
  },
  {
   "cell_type": "code",
   "execution_count": 16,
   "metadata": {},
   "outputs": [],
   "source": [
    "# making the test dataset csv file\n",
    "final_df.to_csv('/Users/ashitasrivastava/Desktop/projects/ERSILIA/model-validation-example/data/test_dataset.csv',index=False)"
   ]
  },
  {
   "cell_type": "code",
   "execution_count": 17,
   "metadata": {},
   "outputs": [
    {
     "name": "stdout",
     "output_type": "stream",
     "text": [
      "                           key  \\\n",
      "0  VLKAMDZYTNJHHG-QGZVFWFLSA-N   \n",
      "1  AFPODXVEPNVDCE-HXUWFJFHSA-N   \n",
      "2  TVAWFBREUZKKRV-GOSISDBHSA-N   \n",
      "3  UVTNFZQICZKOEM-UHFFFAOYSA-N   \n",
      "4  XEAKAKKNLOUHDV-UHFFFAOYSA-N   \n",
      "\n",
      "                                               input     score      alea  \\\n",
      "0     Cc1nc2ncccc2cc1-c1ccc2cc(CCN3CCC[C@H]3C)ccc2n1  0.459604  0.224205   \n",
      "1  C[C@@H]1CCCN1CCc1ccc2nc(-c3ccc(-n4ccc(=O)cc4)c...  0.473796  0.223696   \n",
      "2  Cc1c(-c2ccc3cc(CCN4CCC[C@H]4C)ccc3n2)cnn1-c1cc...  0.473853  0.220383   \n",
      "3         CC(C)N(CCC(C(N)=O)(c1ccccc1)c1ccccn1)C(C)C  0.491279  0.217111   \n",
      "4   COc1ccc(CCNCCCNC(=O)c2ccc([N+](=O)[O-])cc2)cc1OC  0.469087  0.213895   \n",
      "\n",
      "       epis  \n",
      "0  0.024163  \n",
      "1  0.025618  \n",
      "2  0.028933  \n",
      "3  0.032813  \n",
      "4  0.035149  \n",
      "(2218, 5)\n"
     ]
    }
   ],
   "source": [
    "# In this codeblock I will load the predictions I obtained with the EMH model and check several ML performance metric\n",
    "eval_df = pd.read_csv('/Users/ashitasrivastava/Desktop/projects/ERSILIA/model-validation-example/data/evaluation_dataset.csv')\n",
    "print(eval_df.head(5))\n",
    "print(eval_df.shape)"
   ]
  },
  {
   "cell_type": "code",
   "execution_count": 18,
   "metadata": {},
   "outputs": [],
   "source": [
    "score_list=eval_df['score'].to_list()"
   ]
  },
  {
   "cell_type": "code",
   "execution_count": 19,
   "metadata": {},
   "outputs": [
    {
     "name": "stdout",
     "output_type": "stream",
     "text": [
      "                                       standard smiles  \\\n",
      "111     Cc1nc2ncccc2cc1-c1ccc2cc(CCN3CCC[C@H]3C)ccc2n1   \n",
      "112  C[C@@H]1CCCN1CCc1ccc2nc(-c3ccc(-n4ccc(=O)cc4)c...   \n",
      "116  Cc1c(-c2ccc3cc(CCN4CCC[C@H]4C)ccc3n2)cnn1-c1cc...   \n",
      "160         CC(C)N(CCC(C(N)=O)(c1ccccc1)c1ccccn1)C(C)C   \n",
      "161   COc1ccc(CCNCCCNC(=O)c2ccc([N+](=O)[O-])cc2)cc1OC   \n",
      "\n",
      "                        InchiKey  label     score  predicted label  \n",
      "111  VLKAMDZYTNJHHG-QGZVFWFLSA-N      0  0.459604                0  \n",
      "112  AFPODXVEPNVDCE-HXUWFJFHSA-N      0  0.473796                0  \n",
      "116  TVAWFBREUZKKRV-GOSISDBHSA-N      0  0.473853                0  \n",
      "160  UVTNFZQICZKOEM-UHFFFAOYSA-N      0  0.491279                0  \n",
      "161  XEAKAKKNLOUHDV-UHFFFAOYSA-N      1  0.469087                0  \n"
     ]
    },
    {
     "name": "stderr",
     "output_type": "stream",
     "text": [
      "/Users/ashitasrivastava/miniconda3/envs/ersilia/lib/python3.9/site-packages/pandas/core/frame.py:3607: SettingWithCopyWarning: \n",
      "A value is trying to be set on a copy of a slice from a DataFrame.\n",
      "Try using .loc[row_indexer,col_indexer] = value instead\n",
      "\n",
      "See the caveats in the documentation: https://pandas.pydata.org/pandas-docs/stable/user_guide/indexing.html#returning-a-view-versus-a-copy\n",
      "  self._set_item(key, value)\n"
     ]
    }
   ],
   "source": [
    "final_df['score']=score_list\n",
    "def predicted_label(x):\n",
    "    if x < 0.5:\n",
    "        return 0\n",
    "    else:\n",
    "        return 1\n",
    "\n",
    "final_df['predicted label'] = final_df['score'].apply(lambda x: predicted_label(x))\n",
    "print(final_df.head(5))"
   ]
  },
  {
   "cell_type": "code",
   "execution_count": 20,
   "metadata": {},
   "outputs": [
    {
     "name": "stdout",
     "output_type": "stream",
     "text": [
      "                                        standard smiles  \\\n",
      "111      Cc1nc2ncccc2cc1-c1ccc2cc(CCN3CCC[C@H]3C)ccc2n1   \n",
      "112   C[C@@H]1CCCN1CCc1ccc2nc(-c3ccc(-n4ccc(=O)cc4)c...   \n",
      "116   Cc1c(-c2ccc3cc(CCN4CCC[C@H]4C)ccc3n2)cnn1-c1cc...   \n",
      "160          CC(C)N(CCC(C(N)=O)(c1ccccc1)c1ccccn1)C(C)C   \n",
      "161    COc1ccc(CCNCCCNC(=O)c2ccc([N+](=O)[O-])cc2)cc1OC   \n",
      "...                                                 ...   \n",
      "9487  Cc1onc(-c2ccc(F)cc2)c1COc1ccc2c(n1)CCN(C(=O)c1...   \n",
      "9488  Cc1onc(-c2ccc(F)cc2)c1COc1ccc2c(n1)CCN(C(=O)N(...   \n",
      "9489  Cc1onc(-c2ccc(F)cc2)c1COc1ccc2c(n1)CCN(C(=O)N1...   \n",
      "9490      CC(=O)N1Cc2ccc(OCc3c(C)nnn3-c3ccc(F)cc3)nc2C1   \n",
      "9491  Cc1nnn(-c2ccc(F)cc2)c1COc1ccc2c(n1)CCN(C(=O)C1...   \n",
      "\n",
      "                         InchiKey  label     score  predicted label  \n",
      "111   VLKAMDZYTNJHHG-QGZVFWFLSA-N      0  0.459604                0  \n",
      "112   AFPODXVEPNVDCE-HXUWFJFHSA-N      0  0.473796                0  \n",
      "116   TVAWFBREUZKKRV-GOSISDBHSA-N      0  0.473853                0  \n",
      "160   UVTNFZQICZKOEM-UHFFFAOYSA-N      0  0.491279                0  \n",
      "161   XEAKAKKNLOUHDV-UHFFFAOYSA-N      1  0.469087                0  \n",
      "...                           ...    ...       ...              ...  \n",
      "9487  UMFHAUNGEIGDID-UHFFFAOYSA-N      1  0.210539                0  \n",
      "9488  NHAVPZBYCXDYLA-UHFFFAOYSA-N      1  0.212567                0  \n",
      "9489  AWASMZLLTPEXPS-UHFFFAOYSA-N      1  0.215538                0  \n",
      "9490  IGANKKXNZYWZFN-UHFFFAOYSA-N      0  0.217848                0  \n",
      "9491  CEPWICKCWXPROW-UHFFFAOYSA-N      0  0.222332                0  \n",
      "\n",
      "[2218 rows x 5 columns]\n"
     ]
    }
   ],
   "source": [
    "print(final_df)"
   ]
  },
  {
   "cell_type": "code",
   "execution_count": 74,
   "metadata": {},
   "outputs": [],
   "source": [
    "label=final_df['label'].to_list()\n",
    "predicted_label=final_df['predicted label'].to_list()"
   ]
  },
  {
   "cell_type": "code",
   "execution_count": 75,
   "metadata": {},
   "outputs": [
    {
     "name": "stdout",
     "output_type": "stream",
     "text": [
      "[0, 0, 0, 0, 1, 0, 0, 0, 1, 1, 0, 1, 1, 0, 1, 0, 1, 1, 1, 0, 1, 0, 1, 1, 1, 1, 1, 0, 1, 1, 1, 1, 0, 0, 0, 1, 0, 0, 0, 0, 1, 0, 1, 0, 1, 0, 0, 0, 0, 1, 0, 0, 0, 0, 1, 1, 0, 0, 1, 0, 0, 0, 1, 1, 1, 0, 0, 0, 1, 1, 1, 1, 1, 1, 0, 1, 1, 1, 1, 0, 0, 1, 1, 0, 1, 0, 1, 1, 0, 1, 0, 1, 1, 1, 1, 1, 0, 0, 1, 0, 1, 1, 0, 0, 1, 0, 0, 0, 1, 1, 1, 1, 1, 1, 1, 0, 1, 1, 1, 1, 1, 1, 1, 1, 1, 1, 0, 0, 0, 0, 0, 1, 1, 0, 1, 1, 0, 0, 1, 0, 1, 1, 1, 0, 0, 1, 1, 1, 1, 0, 0, 0, 0, 1, 1, 0, 1, 0, 1, 0, 0, 1, 1, 1, 1, 1, 1, 1, 1, 1, 0, 1, 1, 0, 0, 1, 1, 1, 1, 0, 0, 0, 1, 1, 0, 0, 0, 1, 0, 0, 1, 1, 1, 0, 1, 1, 0, 1, 1, 1, 0, 0, 0, 0, 1, 1, 0, 0, 1, 1, 1, 0, 0, 1, 0, 1, 1, 1, 1, 0, 1, 1, 1, 1, 1, 1, 1, 1, 0, 1, 1, 1, 0, 1, 1, 1, 1, 1, 1, 1, 1, 1, 0, 0, 1, 0, 0, 0, 1, 0, 0, 1, 1, 1, 0, 1, 1, 1, 0, 0, 0, 1, 1, 0, 1, 1, 1, 0, 1, 1, 1, 0, 0, 1, 1, 1, 0, 1, 1, 0, 1, 0, 0, 0, 0, 0, 0, 0, 0, 1, 1, 0, 0, 0, 1, 1, 0, 1, 1, 1, 0, 1, 1, 0, 1, 0, 0, 0, 0, 1, 0, 1, 0, 0, 0, 0, 0, 1, 1, 1, 1, 1, 1, 0, 0, 0, 1, 0, 0, 0, 1, 1, 1, 0, 1, 0, 0, 1, 1, 1, 1, 1, 1, 1, 0, 0, 1, 1, 1, 1, 0, 0, 0, 1, 0, 1, 1, 1, 1, 0, 1, 1, 0, 1, 1, 0, 1, 1, 0, 0, 0, 0, 1, 1, 1, 0, 0, 0, 1, 0, 0, 1, 1, 1, 0, 0, 0, 1, 1, 1, 1, 0, 1, 0, 1, 0, 0, 1, 1, 1, 0, 1, 1, 1, 1, 0, 0, 1, 0, 0, 1, 0, 0, 1, 1, 0, 1, 1, 1, 0, 1, 0, 1, 0, 1, 0, 0, 1, 1, 1, 0, 1, 0, 0, 1, 1, 0, 1, 1, 0, 0, 0, 0, 1, 0, 1, 0, 0, 0, 0, 0, 1, 0, 0, 0, 0, 0, 0, 1, 1, 1, 1, 1, 1, 1, 1, 1, 1, 0, 0, 0, 0, 1, 0, 1, 0, 0, 1, 1, 1, 1, 0, 0, 0, 0, 0, 0, 0, 0, 0, 1, 0, 0, 0, 0, 0, 1, 1, 0, 0, 0, 1, 0, 1, 0, 0, 1, 1, 0, 0, 1, 0, 1, 1, 0, 1, 1, 0, 0, 1, 1, 1, 1, 0, 0, 0, 1, 1, 1, 0, 0, 0, 0, 0, 1, 1, 1, 1, 1, 1, 0, 0, 0, 1, 0, 0, 0, 0, 0, 1, 1, 0, 1, 1, 1, 1, 0, 1, 1, 0, 1, 0, 0, 1, 1, 1, 1, 0, 0, 1, 1, 1, 1, 1, 1, 0, 1, 0, 0, 1, 1, 1, 1, 1, 1, 0, 0, 0, 0, 1, 0, 0, 0, 0, 1, 1, 1, 0, 1, 1, 0, 0, 0, 0, 0, 0, 0, 0, 1, 0, 0, 0, 0, 0, 0, 0, 1, 0, 1, 0, 1, 1, 0, 1, 1, 1, 1, 0, 0, 0, 0, 1, 1, 0, 1, 0, 0, 0, 0, 0, 0, 1, 0, 0, 1, 0, 1, 1, 1, 1, 1, 1, 1, 1, 1, 0, 0, 1, 0, 1, 0, 0, 1, 1, 1, 0, 1, 0, 1, 1, 1, 0, 1, 0, 0, 1, 1, 1, 0, 0, 1, 1, 1, 0, 1, 1, 0, 1, 1, 1, 0, 0, 0, 0, 0, 1, 0, 1, 1, 0, 1, 0, 1, 1, 1, 1, 0, 0, 1, 1, 0, 0, 1, 1, 1, 0, 1, 1, 0, 0, 1, 1, 1, 1, 0, 0, 1, 0, 1, 0, 0, 1, 1, 1, 1, 1, 1, 0, 0, 0, 1, 0, 1, 1, 1, 0, 1, 0, 0, 0, 0, 0, 1, 1, 1, 1, 0, 0, 1, 1, 1, 1, 0, 0, 0, 1, 0, 0, 1, 1, 0, 1, 0, 0, 1, 0, 0, 1, 1, 1, 0, 0, 1, 1, 1, 1, 0, 1, 0, 1, 1, 0, 1, 0, 0, 0, 1, 1, 1, 1, 1, 1, 1, 0, 1, 0, 0, 1, 1, 0, 0, 1, 0, 0, 0, 0, 1, 1, 0, 1, 1, 1, 0, 0, 0, 1, 0, 1, 0, 0, 0, 0, 0, 1, 0, 0, 0, 0, 0, 0, 1, 1, 0, 0, 1, 0, 0, 0, 1, 1, 1, 0, 1, 1, 1, 1, 0, 0, 0, 0, 1, 1, 1, 0, 1, 1, 0, 0, 0, 1, 0, 1, 1, 0, 1, 1, 1, 0, 1, 1, 1, 0, 1, 1, 1, 0, 1, 0, 1, 1, 1, 1, 1, 1, 0, 0, 1, 0, 1, 1, 0, 1, 1, 1, 1, 1, 1, 1, 0, 1, 1, 0, 1, 0, 0, 0, 1, 1, 1, 0, 1, 1, 1, 1, 1, 1, 0, 0, 1, 1, 1, 1, 0, 0, 1, 1, 1, 1, 0, 0, 0, 1, 1, 0, 1, 1, 1, 1, 1, 1, 1, 1, 0, 1, 1, 0, 0, 0, 0, 1, 0, 1, 1, 0, 1, 1, 1, 1, 0, 1, 0, 1, 1, 0, 0, 1, 0, 0, 0, 0, 1, 1, 1, 0, 1, 1, 1, 1, 1, 0, 1, 0, 1, 0, 1, 1, 1, 0, 1, 0, 1, 0, 0, 0, 0, 0, 0, 1, 1, 0, 1, 0, 1, 0, 0, 1, 0, 1, 1, 1, 1, 0, 0, 0, 0, 0, 0, 0, 0, 1, 1, 0, 0, 1, 0, 1, 0, 0, 0, 1, 1, 0, 1, 0, 0, 1, 1, 0, 1, 1, 1, 1, 1, 1, 1, 1, 1, 0, 0, 1, 0, 1, 1, 0, 1, 0, 1, 0, 1, 0, 1, 1, 0, 1, 0, 0, 0, 1, 1, 1, 1, 1, 1, 1, 1, 0, 0, 0, 0, 1, 0, 1, 0, 1, 1, 1, 1, 1, 0, 1, 0, 1, 1, 0, 1, 1, 1, 1, 1, 1, 1, 1, 0, 0, 1, 1, 1, 1, 1, 0, 0, 0, 0, 1, 0, 1, 0, 1, 1, 0, 0, 0, 0, 1, 0, 1, 0, 0, 0, 0, 0, 1, 0, 1, 0, 1, 1, 1, 1, 1, 1, 1, 1, 0, 1, 0, 1, 1, 0, 1, 0, 0, 0, 1, 0, 1, 0, 1, 1, 1, 1, 0, 1, 1, 1, 1, 0, 0, 1, 1, 1, 0, 0, 1, 0, 0, 1, 1, 1, 0, 0, 1, 0, 0, 1, 0, 0, 1, 1, 0, 0, 0, 0, 1, 0, 0, 1, 1, 1, 1, 1, 1, 1, 1, 1, 1, 1, 1, 1, 1, 0, 0, 0, 0, 0, 0, 0, 1, 0, 1, 1, 1, 0, 1, 1, 0, 1, 0, 1, 0, 0, 0, 1, 1, 1, 0, 1, 1, 1, 0, 0, 0, 0, 1, 0, 0, 0, 1, 1, 0, 1, 1, 1, 0, 1, 0, 1, 1, 1, 1, 0, 0, 0, 1, 0, 1, 1, 1, 0, 0, 1, 1, 1, 1, 0, 0, 1, 0, 1, 1, 1, 1, 1, 1, 1, 1, 1, 1, 1, 1, 1, 0, 0, 1, 1, 0, 1, 1, 1, 1, 1, 1, 1, 1, 1, 1, 1, 1, 0, 1, 0, 1, 1, 0, 1, 0, 1, 1, 0, 1, 1, 1, 1, 1, 1, 1, 1, 0, 0, 0, 0, 1, 0, 1, 0, 1, 1, 1, 0, 1, 1, 0, 0, 0, 1, 1, 0, 1, 1, 1, 0, 0, 0, 1, 0, 0, 0, 0, 1, 1, 1, 0, 1, 1, 1, 1, 1, 1, 1, 1, 1, 1, 1, 1, 1, 1, 1, 1, 0, 1, 1, 1, 1, 1, 1, 1, 1, 1, 1, 0, 1, 0, 0, 1, 1, 0, 1, 1, 1, 0, 1, 1, 1, 1, 0, 0, 1, 1, 0, 1, 0, 0, 0, 0, 1, 1, 1, 1, 1, 0, 1, 1, 1, 0, 1, 1, 0, 0, 1, 0, 1, 0, 0, 1, 1, 1, 1, 0, 1, 0, 1, 1, 1, 1, 1, 1, 1, 0, 0, 0, 0, 0, 0, 1, 0, 0, 0, 1, 0, 1, 1, 1, 1, 1, 0, 0, 0, 1, 1, 1, 1, 0, 1, 0, 1, 0, 1, 1, 1, 0, 1, 1, 0, 1, 0, 0, 1, 0, 0, 0, 0, 0, 1, 1, 1, 1, 1, 1, 1, 1, 1, 1, 1, 1, 0, 1, 1, 1, 0, 1, 1, 1, 0, 0, 1, 1, 1, 1, 0, 0, 1, 0, 0, 0, 0, 1, 0, 0, 0, 1, 1, 1, 1, 1, 1, 0, 1, 1, 0, 0, 0, 1, 1, 0, 0, 1, 1, 1, 1, 0, 0, 1, 1, 0, 1, 1, 1, 1, 1, 0, 1, 1, 0, 0, 1, 1, 1, 0, 1, 0, 0, 1, 1, 1, 1, 1, 1, 1, 0, 1, 1, 1, 1, 0, 1, 1, 0, 1, 0, 1, 1, 0, 0, 0, 1, 0, 1, 1, 0, 1, 1, 1, 0, 0, 1, 1, 0, 0, 1, 1, 0, 1, 1, 1, 1, 1, 1, 0, 0, 0, 0, 1, 0, 1, 0, 0, 1, 1, 1, 1, 1, 0, 1, 1, 1, 0, 0, 1, 1, 1, 1, 1, 0, 1, 0, 1, 1, 1, 0, 0, 0, 1, 1, 1, 1, 1, 0, 0, 1, 0, 0, 0, 1, 1, 0, 0, 1, 1, 0, 0, 1, 1, 1, 0, 0, 1, 1, 0, 1, 1, 1, 0, 0, 1, 0, 0, 1, 1, 0, 1, 0, 0, 1, 0, 0, 0, 0, 1, 0, 1, 0, 1, 1, 1, 0, 0, 1, 1, 1, 0, 0, 1, 0, 0, 1, 1, 1, 1, 0, 1, 0, 0, 0, 1, 0, 1, 0, 1, 1, 0, 1, 1, 0, 1, 0, 1, 1, 1, 0, 1, 0, 1, 0, 1, 1, 1, 1, 0, 1, 0, 0, 0, 0, 1, 0, 0, 0, 1, 0, 0, 0, 0, 0, 0, 0, 1, 1, 0, 1, 1, 0, 0, 1, 1, 0, 1, 0, 1, 1, 1, 0, 1, 0, 1, 1, 1, 1, 1, 0, 1, 1, 1, 1, 1, 1, 1, 0, 1, 1, 0, 1, 1, 0, 1, 0, 1, 1, 0, 1, 1, 1, 0, 0, 0, 1, 0, 0, 0, 1, 1, 1, 1, 1, 1, 1, 1, 0, 1, 1, 1, 1, 1, 0, 0, 0, 0, 1, 0, 0, 1, 1, 0, 1, 1, 1, 1, 1, 1, 1, 1, 1, 1, 0, 0, 0, 1, 1, 1, 1, 1, 0, 0, 0, 1, 1, 1, 1, 0, 0, 0, 1, 1, 1, 1, 0, 0, 0, 1, 1, 1, 1, 0, 0, 1, 0, 1, 0, 1, 1, 1, 1, 0, 1, 1, 1, 1, 0, 1, 0, 0, 1, 1, 0, 0, 1, 0, 0, 0, 1, 0, 0, 1, 1, 1, 1, 1, 1, 1, 1, 0, 1, 1, 1, 1, 1, 1, 0, 0, 1, 1, 1, 0, 1, 0, 1, 1, 0, 1, 1, 0, 1, 1, 1, 1, 0, 0, 0, 0, 1, 1, 1, 1, 1, 0, 1, 0, 1, 1, 0, 1, 1, 0, 1, 0, 0, 0, 0, 0, 0, 0, 1, 0, 1, 0, 0, 1, 0, 0, 0, 0, 1, 1, 1, 0, 0, 0, 0, 1, 1, 1, 1, 0, 1, 1, 1, 1, 0, 0, 0, 0, 0, 0, 1, 0, 1, 1, 0, 0, 1, 1, 1, 1, 0, 1, 1, 0, 1, 1, 0, 0, 0, 0, 1, 0, 0, 1, 0, 1, 0, 1, 1, 1, 1, 1, 0, 0, 0, 1, 1, 0, 0, 1, 1, 0, 1, 1, 1, 1, 1, 1, 0, 1, 1, 1, 0, 0, 1, 0, 0, 1, 1, 0, 1, 1, 1, 0, 0, 0, 0, 1, 1, 1, 1, 0, 0, 1, 1, 0, 1, 1, 1, 0, 0, 1, 1, 0, 0, 1, 1, 0, 0, 0, 0, 0, 1, 1, 0, 1, 1, 0, 1, 0, 0, 0, 1, 1, 1, 0, 0, 1, 1, 0, 0, 1, 0, 1, 0, 1, 0, 1, 0, 0, 1, 0, 1, 1, 1, 1, 1, 1, 1, 0, 0, 1, 0, 0, 0, 0, 1, 0, 0, 0, 1, 1, 1, 0, 1, 1, 0, 0, 1, 0, 0, 1, 1, 0, 1, 0, 0, 1, 1, 1, 1, 1, 1, 1, 1, 1, 1, 1, 0, 0, 0, 1, 0, 0, 1, 0, 1, 0, 0, 0, 0, 0, 1, 1, 0, 0, 1, 1, 0, 1, 1, 0, 0, 0, 1, 1, 0, 0, 0, 0, 1, 1, 1, 1, 0, 0]\n"
     ]
    }
   ],
   "source": [
    "print(label)"
   ]
  },
  {
   "cell_type": "code",
   "execution_count": 22,
   "metadata": {},
   "outputs": [
    {
     "name": "stdout",
     "output_type": "stream",
     "text": [
      "true_positives :  399\n",
      "false_positives :  258\n",
      "true_negatives :  705\n",
      "false_negatives :  856\n"
     ]
    }
   ],
   "source": [
    "df1=final_df.copy()\n",
    "true_positives = len(df1[(df1['predicted label'] == 1) & (df1['label'] == 1)])\n",
    "print('true_positives : ',true_positives)\n",
    "df2=final_df.copy()\n",
    "false_positives = len(df2[(df2['predicted label'] == 1) & (df2['label'] == 0)])\n",
    "print('false_positives : ',false_positives)\n",
    "df3=final_df.copy()\n",
    "true_negatives = len(df3[(df3['predicted label'] == 0) & (df3['label'] == 0)])\n",
    "print('true_negatives : ',true_negatives)\n",
    "df4=final_df.copy()\n",
    "false_negatives = len(df4[(df4['predicted label'] == 0) & (df4['label'] == 1)])\n",
    "print('false_negatives : ',false_negatives)"
   ]
  },
  {
   "cell_type": "markdown",
   "metadata": {},
   "source": [
    "### Confusion matrix\n",
    "\n",
    "|            | Predicted Positive | Predicted Negative |\n",
    "|------------|--------------------|--------------------|\n",
    "| Actual Positive | True Positive:399       | False Negative:856      |\n",
    "| Actual Negative | False Positive:258      | True Negative:705       |"
   ]
  },
  {
   "cell_type": "markdown",
   "metadata": {},
   "source": [
    "## ML Performance metrics\n",
    "\n",
    "In the publication paper, the authors have tested the model for accuracy (ACC), balanced accuracy (BAC), Matthews’s correlation coefficient (MCC), F1-score (F1), sensitivity (SEN), specificity (SPE), negative predictive value(NPV), positive predictive value(PPV), area under the receiver operating characteristic curve (AUROC) and area under the precision-recall curve (AUPR). Let's evaluate the model on all these metrics one by one."
   ]
  },
  {
   "cell_type": "markdown",
   "metadata": {},
   "source": [
    "### Accuracy(ACC)\n",
    "\n",
    "Accuracy= (true positives + true negatives) / (true positives + true negatives + false positives + false negatives)"
   ]
  },
  {
   "cell_type": "code",
   "execution_count": 23,
   "metadata": {},
   "outputs": [
    {
     "name": "stdout",
     "output_type": "stream",
     "text": [
      "Accuracy =  0.4977457168620379\n"
     ]
    }
   ],
   "source": [
    "accuracy=(true_positives+true_negatives)/(true_negatives+true_positives+false_negatives+false_positives)\n",
    "print('Accuracy = ', accuracy)"
   ]
  },
  {
   "cell_type": "markdown",
   "metadata": {},
   "source": [
    "### Senstivity(SEN)\n",
    "\n",
    "Senstivity= true positives  / (true positives + false negatives)"
   ]
  },
  {
   "cell_type": "code",
   "execution_count": 24,
   "metadata": {},
   "outputs": [
    {
     "name": "stdout",
     "output_type": "stream",
     "text": [
      "Senstivity =  0.3179282868525896\n"
     ]
    }
   ],
   "source": [
    "senstivity=(true_positives)/(true_positives+false_negatives)\n",
    "print('Senstivity = ', senstivity)"
   ]
  },
  {
   "cell_type": "markdown",
   "metadata": {},
   "source": [
    "### Specificity(SPE)\n",
    "\n",
    "Senstivity= true negatives  / (true negatives + false positives)"
   ]
  },
  {
   "cell_type": "code",
   "execution_count": 25,
   "metadata": {},
   "outputs": [
    {
     "name": "stdout",
     "output_type": "stream",
     "text": [
      "Specificity =  0.7320872274143302\n"
     ]
    }
   ],
   "source": [
    "specificity=(true_negatives)/(true_negatives+false_positives)\n",
    "print('Specificity = ', specificity)"
   ]
  },
  {
   "cell_type": "markdown",
   "metadata": {},
   "source": [
    "### Precision / Positive Predictive Value\n",
    "\n",
    "Positive Predictive Value / Precision= true postives  / (true positives + false positives)"
   ]
  },
  {
   "cell_type": "code",
   "execution_count": 26,
   "metadata": {},
   "outputs": [
    {
     "name": "stdout",
     "output_type": "stream",
     "text": [
      "Positive Predictive Value / Precision =  0.6073059360730594\n"
     ]
    }
   ],
   "source": [
    "precision=(true_positives)/(true_positives+false_positives)\n",
    "print('Positive Predictive Value / Precision = ', precision)"
   ]
  },
  {
   "cell_type": "markdown",
   "metadata": {},
   "source": [
    "### Recall\n",
    "\n",
    "Recall= true postives  / (true positives + false negatives)"
   ]
  },
  {
   "cell_type": "code",
   "execution_count": 27,
   "metadata": {},
   "outputs": [
    {
     "name": "stdout",
     "output_type": "stream",
     "text": [
      "Recall =  0.3179282868525896\n"
     ]
    }
   ],
   "source": [
    "recall=(true_positives)/(true_positives+false_negatives)\n",
    "print('Recall = ', recall)"
   ]
  },
  {
   "cell_type": "markdown",
   "metadata": {},
   "source": [
    "### Negative Predictive Value\n",
    "\n",
    "Negative Predictive Value= true negatives  / (true negatives + false negatives)"
   ]
  },
  {
   "cell_type": "code",
   "execution_count": 28,
   "metadata": {},
   "outputs": [
    {
     "name": "stdout",
     "output_type": "stream",
     "text": [
      "Negative Predictive Value =  0.4516335682254965\n"
     ]
    }
   ],
   "source": [
    "negative_predictive_value=(true_negatives)/(true_negatives+false_negatives)\n",
    "print('Negative Predictive Value = ', negative_predictive_value)"
   ]
  },
  {
   "cell_type": "markdown",
   "metadata": {},
   "source": [
    "### Balanced Accuracy\n",
    "\n",
    "Balanced Accuracy= ( senstivity + specificity )/2"
   ]
  },
  {
   "cell_type": "code",
   "execution_count": 29,
   "metadata": {},
   "outputs": [
    {
     "name": "stdout",
     "output_type": "stream",
     "text": [
      "Balanced Accuracy =  0.5250077571334599\n"
     ]
    }
   ],
   "source": [
    "balanced_accuracy=(senstivity+specificity)/2\n",
    "print('Balanced Accuracy = ', balanced_accuracy)"
   ]
  },
  {
   "cell_type": "markdown",
   "metadata": {},
   "source": [
    "### Matthew's Correlation Coefficient\n",
    "\n",
    "Matthew's Correlation Coefficient = ( ( TP * TN ) - ( FP * FN ) )/√(( TP + FP) * ( TP + FN) * ( TN + FP ) * ( TN + FN ))"
   ]
  },
  {
   "cell_type": "code",
   "execution_count": 30,
   "metadata": {},
   "outputs": [
    {
     "name": "stdout",
     "output_type": "stream",
     "text": [
      "Matthew's Correlation Coefficient =  0.05429447134036396\n"
     ]
    }
   ],
   "source": [
    "matthew_correlation_coefficient=((true_negatives*true_positives)-(false_negatives*false_positives))/ math.sqrt((true_positives+false_positives)*(true_positives+false_negatives)*(true_negatives+false_positives)*(true_negatives+false_negatives))\n",
    "print(\"Matthew's Correlation Coefficient = \", matthew_correlation_coefficient)"
   ]
  },
  {
   "cell_type": "markdown",
   "metadata": {},
   "source": [
    "### F1 Score\n",
    "\n",
    "F1 Score= 2*( Precision * Recall )/ (Precison + Recall)"
   ]
  },
  {
   "cell_type": "code",
   "execution_count": 31,
   "metadata": {},
   "outputs": [
    {
     "name": "stdout",
     "output_type": "stream",
     "text": [
      "F1 Score =  0.41736401673640167\n"
     ]
    }
   ],
   "source": [
    "f1_score=2*(precision*recall)/(precision+recall)\n",
    "print('F1 Score = ', f1_score)"
   ]
  },
  {
   "cell_type": "markdown",
   "metadata": {},
   "source": [
    "## Final Results\n",
    "\n",
    "| Metric | Value |\n",
    "|----------|----------|\n",
    "| Accuracy | 0.497 |\n",
    "| Senstivity | 0.3179 |\n",
    "| Specificty | 0.732 |\n",
    "| Precision / Positive Predictive Value | 0.607 |\n",
    "| Recall | 0.3179 |\n",
    "| Negative Predictive Value | 0.4516 |\n",
    "| Balanced Accuracy | 0.525 |\n",
    "| Matthew's Correlation Coeffcicient | 0.05429 |\n",
    "| F1 Score | 0.417 |"
   ]
  },
  {
   "cell_type": "code",
   "execution_count": 50,
   "metadata": {},
   "outputs": [
    {
     "data": {
      "image/png": "[encoded data removed]",
      "text/plain": [
       "<Figure size 800x600 with 1 Axes>"
      ]
     },
     "metadata": {},
     "output_type": "display_data"
    },
    {
     "name": "stdout",
     "output_type": "stream",
     "text": [
      "AUROC: 0.5250077571334599\n",
      "R2 Score: -1.0444510638649973\n"
     ]
    }
   ],
   "source": [
    "import pandas as pd\n",
    "from sklearn.metrics import roc_curve,precision_recall_curve,auc, r2_score\n",
    "import matplotlib.pyplot as plt\n",
    "\n",
    "#ROC curve for label\n",
    "FPR, TPR, _ = roc_curve(label,predicted_label)\n",
    "roc_auc = auc(FPR, TPR)\n",
    "\n",
    "# Calculate R2 score\n",
    "r2 = r2_score(label, predicted_label)\n",
    "\n",
    "#ROC curve for labels\n",
    "plt.figure(figsize=(8, 6))\n",
    "plt.plot(FPR, TPR, lw=2, label='ROC curve for y (area = %0.2f)' % roc_auc)\n",
    "plt.plot([0, 1], [0, 1], linestyle='--')\n",
    "plt.xlabel('False Positive Rate')\n",
    "plt.ylabel('True Positive Rate')\n",
    "plt.title('Receiver Operating Characteristic (ROC) Curve for label')\n",
    "plt.legend()\n",
    "plt.show()\n",
    "\n",
    "#AUROC and R2 score\n",
    "print(\"AUROC:\", roc_auc)\n",
    "print(\"R2 Score:\", r2)"
   ]
  },
  {
   "cell_type": "code",
   "execution_count": 54,
   "metadata": {},
   "outputs": [
    {
     "data": {
      "image/png": "[encoded data removed]",
      "text/plain": [
       "<Figure size 800x600 with 1 Axes>"
      ]
     },
     "metadata": {},
     "output_type": "display_data"
    },
    {
     "name": "stdout",
     "output_type": "stream",
     "text": [
      "AUPRC 0.5207776164222474\n"
     ]
    }
   ],
   "source": [
    "precision, recall, thresholds = precision_recall_curve(predicted_label,label)\n",
    "auc_score = auc(recall, precision)\n",
    "plt.figure(figsize=(8, 6))\n",
    "plt.plot(recall, precision, label=f'Precision-Recall Curve (AUC = {auc_score:.2f})')\n",
    "plt.xlabel('Recall')\n",
    "plt.ylabel('Precision')\n",
    "plt.title('Precision-Recall Curve')\n",
    "plt.legend()\n",
    "plt.show()\n",
    "print('AUPRC',auc_score)"
   ]
  },
  {
   "cell_type": "code",
   "execution_count": 65,
   "metadata": {},
   "outputs": [
    {
     "data": {
      "image/png": "[encoded data removed]",
      "text/plain": [
       "<Figure size 640x480 with 1 Axes>"
      ]
     },
     "metadata": {},
     "output_type": "display_data"
    }
   ],
   "source": [
    "\n",
    "# Count the frequency of values in the lists\n",
    "label_values, label_counts = np.unique(label, return_counts=True)\n",
    "label_predicted_values, label_predicted_counts = np.unique(predicted_label, return_counts=True)\n",
    "\n",
    "# Plotting\n",
    "width = 0.35  # Width of the bars\n",
    "x = np.arange(len(label_values))  # The label locations\n",
    "\n",
    "label_counts_scaled = label_counts / 2218\n",
    "label_predicted_counts_scaled = label_predicted_counts / 2218\n",
    "\n",
    "fig, ax = plt.subplots()\n",
    "bars1 = ax.bar(x - width/2, label_counts_scaled, width, label='Label')\n",
    "bars2 = ax.bar(x + width/2, label_predicted_counts_scaled, width, label='Predicted Label')\n",
    "\n",
    "# Add some text for labels, title, and axes ticks\n",
    "ax.set_ylabel('Frequency')\n",
    "ax.set_xlabel('Class')\n",
    "ax.set_title('Frequency vs Class')\n",
    "ax.set_xticks(x)\n",
    "plt.legend()\n",
    "plt.show()"
   ]
  },
  {
   "cell_type": "code",
   "execution_count": 76,
   "metadata": {},
   "outputs": [
    {
     "name": "stdout",
     "output_type": "stream",
     "text": [
      "[0, 0, 0, 0, 1, 0, 0, 0, 1, 1, 0, 1, 1, 0, 1, 0, 1, 1, 1, 0, 1, 0, 1, 1, 1, 1, 1, 0, 1, 1, 1, 1, 0, 0, 0, 1, 0, 0, 0, 0, 1, 0, 1, 0, 1, 0, 0, 0, 0, 1, 0, 0, 0, 0, 1, 1, 0, 0, 1, 0, 0, 0, 1, 1, 1, 0, 0, 0, 1, 1, 1, 1, 1, 1, 0, 1, 1, 1, 1, 0, 0, 1, 1, 0, 1, 0, 1, 1, 0, 1, 0, 1, 1, 1, 1, 1, 0, 0, 1, 0, 1, 1, 0, 0, 1, 0, 0, 0, 1, 1, 1, 1, 1, 1, 1, 0, 1, 1, 1, 1, 1, 1, 1, 1, 1, 1, 0, 0, 0, 0, 0, 1, 1, 0, 1, 1, 0, 0, 1, 0, 1, 1, 1, 0, 0, 1, 1, 1, 1, 0, 0, 0, 0, 1, 1, 0, 1, 0, 1, 0, 0, 1, 1, 1, 1, 1, 1, 1, 1, 1, 0, 1, 1, 0, 0, 1, 1, 1, 1, 0, 0, 0, 1, 1, 0, 0, 0, 1, 0, 0, 1, 1, 1, 0, 1, 1, 0, 1, 1, 1, 0, 0, 0, 0, 1, 1, 0, 0, 1, 1, 1, 0, 0, 1, 0, 1, 1, 1, 1, 0, 1, 1, 1, 1, 1, 1, 1, 1, 0, 1, 1, 1, 0, 1, 1, 1, 1, 1, 1, 1, 1, 1, 0, 0, 1, 0, 0, 0, 1, 0, 0, 1, 1, 1, 0, 1, 1, 1, 0, 0, 0, 1, 1, 0, 1, 1, 1, 0, 1, 1, 1, 0, 0, 1, 1, 1, 0, 1, 1, 0, 1, 0, 0, 0, 0, 0, 0, 0, 0, 1, 1, 0, 0, 0, 1, 1, 0, 1, 1, 1, 0, 1, 1, 0, 1, 0, 0, 0, 0, 1, 0, 1, 0, 0, 0, 0, 0, 1, 1, 1, 1, 1, 1, 0, 0, 0, 1, 0, 0, 0, 1, 1, 1, 0, 1, 0, 0, 1, 1, 1, 1, 1, 1, 1, 0, 0, 1, 1, 1, 1, 0, 0, 0, 1, 0, 1, 1, 1, 1, 0, 1, 1, 0, 1, 1, 0, 1, 1, 0, 0, 0, 0, 1, 1, 1, 0, 0, 0, 1, 0, 0, 1, 1, 1, 0, 0, 0, 1, 1, 1, 1, 0, 1, 0, 1, 0, 0, 1, 1, 1, 0, 1, 1, 1, 1, 0, 0, 1, 0, 0, 1, 0, 0, 1, 1, 0, 1, 1, 1, 0, 1, 0, 1, 0, 1, 0, 0, 1, 1, 1, 0, 1, 0, 0, 1, 1, 0, 1, 1, 0, 0, 0, 0, 1, 0, 1, 0, 0, 0, 0, 0, 1, 0, 0, 0, 0, 0, 0, 1, 1, 1, 1, 1, 1, 1, 1, 1, 1, 0, 0, 0, 0, 1, 0, 1, 0, 0, 1, 1, 1, 1, 0, 0, 0, 0, 0, 0, 0, 0, 0, 1, 0, 0, 0, 0, 0, 1, 1, 0, 0, 0, 1, 0, 1, 0, 0, 1, 1, 0, 0, 1, 0, 1, 1, 0, 1, 1, 0, 0, 1, 1, 1, 1, 0, 0, 0, 1, 1, 1, 0, 0, 0, 0, 0, 1, 1, 1, 1, 1, 1, 0, 0, 0, 1, 0, 0, 0, 0, 0, 1, 1, 0, 1, 1, 1, 1, 0, 1, 1, 0, 1, 0, 0, 1, 1, 1, 1, 0, 0, 1, 1, 1, 1, 1, 1, 0, 1, 0, 0, 1, 1, 1, 1, 1, 1, 0, 0, 0, 0, 1, 0, 0, 0, 0, 1, 1, 1, 0, 1, 1, 0, 0, 0, 0, 0, 0, 0, 0, 1, 0, 0, 0, 0, 0, 0, 0, 1, 0, 1, 0, 1, 1, 0, 1, 1, 1, 1, 0, 0, 0, 0, 1, 1, 0, 1, 0, 0, 0, 0, 0, 0, 1, 0, 0, 1, 0, 1, 1, 1, 1, 1, 1, 1, 1, 1, 0, 0, 1, 0, 1, 0, 0, 1, 1, 1, 0, 1, 0, 1, 1, 1, 0, 1, 0, 0, 1, 1, 1, 0, 0, 1, 1, 1, 0, 1, 1, 0, 1, 1, 1, 0, 0, 0, 0, 0, 1, 0, 1, 1, 0, 1, 0, 1, 1, 1, 1, 0, 0, 1, 1, 0, 0, 1, 1, 1, 0, 1, 1, 0, 0, 1, 1, 1, 1, 0, 0, 1, 0, 1, 0, 0, 1, 1, 1, 1, 1, 1, 0, 0, 0, 1, 0, 1, 1, 1, 0, 1, 0, 0, 0, 0, 0, 1, 1, 1, 1, 0, 0, 1, 1, 1, 1, 0, 0, 0, 1, 0, 0, 1, 1, 0, 1, 0, 0, 1, 0, 0, 1, 1, 1, 0, 0, 1, 1, 1, 1, 0, 1, 0, 1, 1, 0, 1, 0, 0, 0, 1, 1, 1, 1, 1, 1, 1, 0, 1, 0, 0, 1, 1, 0, 0, 1, 0, 0, 0, 0, 1, 1, 0, 1, 1, 1, 0, 0, 0, 1, 0, 1, 0, 0, 0, 0, 0, 1, 0, 0, 0, 0, 0, 0, 1, 1, 0, 0, 1, 0, 0, 0, 1, 1, 1, 0, 1, 1, 1, 1, 0, 0, 0, 0, 1, 1, 1, 0, 1, 1, 0, 0, 0, 1, 0, 1, 1, 0, 1, 1, 1, 0, 1, 1, 1, 0, 1, 1, 1, 0, 1, 0, 1, 1, 1, 1, 1, 1, 0, 0, 1, 0, 1, 1, 0, 1, 1, 1, 1, 1, 1, 1, 0, 1, 1, 0, 1, 0, 0, 0, 1, 1, 1, 0, 1, 1, 1, 1, 1, 1, 0, 0, 1, 1, 1, 1, 0, 0, 1, 1, 1, 1, 0, 0, 0, 1, 1, 0, 1, 1, 1, 1, 1, 1, 1, 1, 0, 1, 1, 0, 0, 0, 0, 1, 0, 1, 1, 0, 1, 1, 1, 1, 0, 1, 0, 1, 1, 0, 0, 1, 0, 0, 0, 0, 1, 1, 1, 0, 1, 1, 1, 1, 1, 0, 1, 0, 1, 0, 1, 1, 1, 0, 1, 0, 1, 0, 0, 0, 0, 0, 0, 1, 1, 0, 1, 0, 1, 0, 0, 1, 0, 1, 1, 1, 1, 0, 0, 0, 0, 0, 0, 0, 0, 1, 1, 0, 0, 1, 0, 1, 0, 0, 0, 1, 1, 0, 1, 0, 0, 1, 1, 0, 1, 1, 1, 1, 1, 1, 1, 1, 1, 0, 0, 1, 0, 1, 1, 0, 1, 0, 1, 0, 1, 0, 1, 1, 0, 1, 0, 0, 0, 1, 1, 1, 1, 1, 1, 1, 1, 0, 0, 0, 0, 1, 0, 1, 0, 1, 1, 1, 1, 1, 0, 1, 0, 1, 1, 0, 1, 1, 1, 1, 1, 1, 1, 1, 0, 0, 1, 1, 1, 1, 1, 0, 0, 0, 0, 1, 0, 1, 0, 1, 1, 0, 0, 0, 0, 1, 0, 1, 0, 0, 0, 0, 0, 1, 0, 1, 0, 1, 1, 1, 1, 1, 1, 1, 1, 0, 1, 0, 1, 1, 0, 1, 0, 0, 0, 1, 0, 1, 0, 1, 1, 1, 1, 0, 1, 1, 1, 1, 0, 0, 1, 1, 1, 0, 0, 1, 0, 0, 1, 1, 1, 0, 0, 1, 0, 0, 1, 0, 0, 1, 1, 0, 0, 0, 0, 1, 0, 0, 1, 1, 1, 1, 1, 1, 1, 1, 1, 1, 1, 1, 1, 1, 0, 0, 0, 0, 0, 0, 0, 1, 0, 1, 1, 1, 0, 1, 1, 0, 1, 0, 1, 0, 0, 0, 1, 1, 1, 0, 1, 1, 1, 0, 0, 0, 0, 1, 0, 0, 0, 1, 1, 0, 1, 1, 1, 0, 1, 0, 1, 1, 1, 1, 0, 0, 0, 1, 0, 1, 1, 1, 0, 0, 1, 1, 1, 1, 0, 0, 1, 0, 1, 1, 1, 1, 1, 1, 1, 1, 1, 1, 1, 1, 1, 0, 0, 1, 1, 0, 1, 1, 1, 1, 1, 1, 1, 1, 1, 1, 1, 1, 0, 1, 0, 1, 1, 0, 1, 0, 1, 1, 0, 1, 1, 1, 1, 1, 1, 1, 1, 0, 0, 0, 0, 1, 0, 1, 0, 1, 1, 1, 0, 1, 1, 0, 0, 0, 1, 1, 0, 1, 1, 1, 0, 0, 0, 1, 0, 0, 0, 0, 1, 1, 1, 0, 1, 1, 1, 1, 1, 1, 1, 1, 1, 1, 1, 1, 1, 1, 1, 1, 0, 1, 1, 1, 1, 1, 1, 1, 1, 1, 1, 0, 1, 0, 0, 1, 1, 0, 1, 1, 1, 0, 1, 1, 1, 1, 0, 0, 1, 1, 0, 1, 0, 0, 0, 0, 1, 1, 1, 1, 1, 0, 1, 1, 1, 0, 1, 1, 0, 0, 1, 0, 1, 0, 0, 1, 1, 1, 1, 0, 1, 0, 1, 1, 1, 1, 1, 1, 1, 0, 0, 0, 0, 0, 0, 1, 0, 0, 0, 1, 0, 1, 1, 1, 1, 1, 0, 0, 0, 1, 1, 1, 1, 0, 1, 0, 1, 0, 1, 1, 1, 0, 1, 1, 0, 1, 0, 0, 1, 0, 0, 0, 0, 0, 1, 1, 1, 1, 1, 1, 1, 1, 1, 1, 1, 1, 0, 1, 1, 1, 0, 1, 1, 1, 0, 0, 1, 1, 1, 1, 0, 0, 1, 0, 0, 0, 0, 1, 0, 0, 0, 1, 1, 1, 1, 1, 1, 0, 1, 1, 0, 0, 0, 1, 1, 0, 0, 1, 1, 1, 1, 0, 0, 1, 1, 0, 1, 1, 1, 1, 1, 0, 1, 1, 0, 0, 1, 1, 1, 0, 1, 0, 0, 1, 1, 1, 1, 1, 1, 1, 0, 1, 1, 1, 1, 0, 1, 1, 0, 1, 0, 1, 1, 0, 0, 0, 1, 0, 1, 1, 0, 1, 1, 1, 0, 0, 1, 1, 0, 0, 1, 1, 0, 1, 1, 1, 1, 1, 1, 0, 0, 0, 0, 1, 0, 1, 0, 0, 1, 1, 1, 1, 1, 0, 1, 1, 1, 0, 0, 1, 1, 1, 1, 1, 0, 1, 0, 1, 1, 1, 0, 0, 0, 1, 1, 1, 1, 1, 0, 0, 1, 0, 0, 0, 1, 1, 0, 0, 1, 1, 0, 0, 1, 1, 1, 0, 0, 1, 1, 0, 1, 1, 1, 0, 0, 1, 0, 0, 1, 1, 0, 1, 0, 0, 1, 0, 0, 0, 0, 1, 0, 1, 0, 1, 1, 1, 0, 0, 1, 1, 1, 0, 0, 1, 0, 0, 1, 1, 1, 1, 0, 1, 0, 0, 0, 1, 0, 1, 0, 1, 1, 0, 1, 1, 0, 1, 0, 1, 1, 1, 0, 1, 0, 1, 0, 1, 1, 1, 1, 0, 1, 0, 0, 0, 0, 1, 0, 0, 0, 1, 0, 0, 0, 0, 0, 0, 0, 1, 1, 0, 1, 1, 0, 0, 1, 1, 0, 1, 0, 1, 1, 1, 0, 1, 0, 1, 1, 1, 1, 1, 0, 1, 1, 1, 1, 1, 1, 1, 0, 1, 1, 0, 1, 1, 0, 1, 0, 1, 1, 0, 1, 1, 1, 0, 0, 0, 1, 0, 0, 0, 1, 1, 1, 1, 1, 1, 1, 1, 0, 1, 1, 1, 1, 1, 0, 0, 0, 0, 1, 0, 0, 1, 1, 0, 1, 1, 1, 1, 1, 1, 1, 1, 1, 1, 0, 0, 0, 1, 1, 1, 1, 1, 0, 0, 0, 1, 1, 1, 1, 0, 0, 0, 1, 1, 1, 1, 0, 0, 0, 1, 1, 1, 1, 0, 0, 1, 0, 1, 0, 1, 1, 1, 1, 0, 1, 1, 1, 1, 0, 1, 0, 0, 1, 1, 0, 0, 1, 0, 0, 0, 1, 0, 0, 1, 1, 1, 1, 1, 1, 1, 1, 0, 1, 1, 1, 1, 1, 1, 0, 0, 1, 1, 1, 0, 1, 0, 1, 1, 0, 1, 1, 0, 1, 1, 1, 1, 0, 0, 0, 0, 1, 1, 1, 1, 1, 0, 1, 0, 1, 1, 0, 1, 1, 0, 1, 0, 0, 0, 0, 0, 0, 0, 1, 0, 1, 0, 0, 1, 0, 0, 0, 0, 1, 1, 1, 0, 0, 0, 0, 1, 1, 1, 1, 0, 1, 1, 1, 1, 0, 0, 0, 0, 0, 0, 1, 0, 1, 1, 0, 0, 1, 1, 1, 1, 0, 1, 1, 0, 1, 1, 0, 0, 0, 0, 1, 0, 0, 1, 0, 1, 0, 1, 1, 1, 1, 1, 0, 0, 0, 1, 1, 0, 0, 1, 1, 0, 1, 1, 1, 1, 1, 1, 0, 1, 1, 1, 0, 0, 1, 0, 0, 1, 1, 0, 1, 1, 1, 0, 0, 0, 0, 1, 1, 1, 1, 0, 0, 1, 1, 0, 1, 1, 1, 0, 0, 1, 1, 0, 0, 1, 1, 0, 0, 0, 0, 0, 1, 1, 0, 1, 1, 0, 1, 0, 0, 0, 1, 1, 1, 0, 0, 1, 1, 0, 0, 1, 0, 1, 0, 1, 0, 1, 0, 0, 1, 0, 1, 1, 1, 1, 1, 1, 1, 0, 0, 1, 0, 0, 0, 0, 1, 0, 0, 0, 1, 1, 1, 0, 1, 1, 0, 0, 1, 0, 0, 1, 1, 0, 1, 0, 0, 1, 1, 1, 1, 1, 1, 1, 1, 1, 1, 1, 0, 0, 0, 1, 0, 0, 1, 0, 1, 0, 0, 0, 0, 0, 1, 1, 0, 0, 1, 1, 0, 1, 1, 0, 0, 0, 1, 1, 0, 0, 0, 0, 1, 1, 1, 1, 0, 0]\n"
     ]
    }
   ],
   "source": [
    "print(label)"
   ]
  },
  {
   "cell_type": "code",
   "execution_count": 82,
   "metadata": {},
   "outputs": [
    {
     "data": {
      "image/png": "[encoded data removed]",
      "text/plain": [
       "<Figure size 600x600 with 1 Axes>"
      ]
     },
     "metadata": {},
     "output_type": "display_data"
    }
   ],
   "source": [
    "label1 = ['Negative' if x == 0 else 'Positive' for x in label]\n",
    "label_values, label_counts = np.unique(label1, return_counts=True)\n",
    "plt.figure(figsize=(6, 6))\n",
    "colors=['green','red']\n",
    "plt.pie(label_counts, labels=label_values, autopct='%1.1f%%', startangle=140,colors=colors)\n",
    "plt.title('Actual Distribution')\n",
    "plt.show()"
   ]
  },
  {
   "cell_type": "code",
   "execution_count": 84,
   "metadata": {},
   "outputs": [
    {
     "data": {
      "image/png": "[encoded data removed]",
      "text/plain": [
       "<Figure size 600x600 with 1 Axes>"
      ]
     },
     "metadata": {},
     "output_type": "display_data"
    }
   ],
   "source": [
    "label2 = ['Negative' if x == 0 else 'Positive' for x in predicted_label]\n",
    "\n",
    "label_values, label_counts = np.unique(label2, return_counts=True)\n",
    "plt.figure(figsize=(6, 6))\n",
    "colors=['green','red']\n",
    "plt.pie(label_counts, labels=label_values, autopct='%1.1f%%', startangle=0,colors=colors)\n",
    "plt.title('Predicted Distribution')\n",
    "plt.show()"
   ]
  },
  {
   "cell_type": "code",
   "execution_count": null,
   "metadata": {},
   "outputs": [],
   "source": []
  }
 ],
 "metadata": {
  "kernelspec": {
   "display_name": "ersilia",
   "language": "python",
   "name": "python3"
  },
  "language_info": {
   "codemirror_mode": {
    "name": "ipython",
    "version": 3
   },
   "file_extension": ".py",
   "mimetype": "text/x-python",
   "name": "python",
   "nbconvert_exporter": "python",
   "pygments_lexer": "ipython3",
   "version": "3.9.18"
  }
 },
 "nbformat": 4,
 "nbformat_minor": 2
}
